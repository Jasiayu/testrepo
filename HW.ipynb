{
    "cells": [
        {
            "cell_type": "markdown",
            "metadata": {},
            "source": "# Predict perssonel turnover rate"
        },
        {
            "cell_type": "markdown",
            "metadata": {},
            "source": "# 1. Introduction\nPersonnel resignation which occur frequently have a great impact on the company. This issue want to use basic personnel information and attendance-related information to classify whether personnel will resign."
        },
        {
            "cell_type": "code",
            "execution_count": 356,
            "metadata": {},
            "outputs": [],
            "source": "import pandas as pd\nimport numpy as np\n\nimport seaborn as sns\nimport matplotlib.pyplot as plt\nfrom collections import Counter\n\n%matplotlib inline\n\n\nfrom sklearn.model_selection import train_test_split\nfrom sklearn.preprocessing import OneHotEncoder,LabelEncoder, PolynomialFeatures, MinMaxScaler, StandardScaler\nfrom sklearn.linear_model import LogisticRegression\nfrom sklearn.linear_model import LogisticRegressionCV\nfrom sklearn.tree import DecisionTreeClassifier\nfrom sklearn.ensemble import GradientBoostingClassifier\nfrom sklearn.model_selection import GridSearchCV"
        },
        {
            "cell_type": "code",
            "execution_count": 169,
            "metadata": {},
            "outputs": [],
            "source": "from sklearn.metrics import accuracy_score, precision_score, recall_score, f1_score\n\ndef measure_error(y_true, y_pred, label):\n    return pd.Series({'accuracy':accuracy_score(y_true, y_pred),\n                      'precision': precision_score(y_true, y_pred),\n                      'recall': recall_score(y_true, y_pred),\n                      'f1': f1_score(y_true, y_pred)},\n                      name=label)"
        },
        {
            "cell_type": "markdown",
            "metadata": {},
            "source": "# 2. About the dataset\nThere are ten projects information and the total work hour of personnel by month."
        },
        {
            "cell_type": "code",
            "execution_count": 170,
            "metadata": {},
            "outputs": [
                {
                    "name": "stderr",
                    "output_type": "stream",
                    "text": "C:\\Users\\10711304\\Anaconda3\\lib\\site-packages\\IPython\\core\\interactiveshell.py:3072: DtypeWarning: Columns (1,5,7,92,93,121) have mixed types.Specify dtype option on import or set low_memory=False.\n  interactivity=interactivity, compiler=compiler, result=result)\n"
                },
                {
                    "data": {
                        "text/html": "<div>\n<style scoped>\n    .dataframe tbody tr th:only-of-type {\n        vertical-align: middle;\n    }\n\n    .dataframe tbody tr th {\n        vertical-align: top;\n    }\n\n    .dataframe thead th {\n        text-align: right;\n    }\n</style>\n<table border=\"1\" class=\"dataframe\">\n  <thead>\n    <tr style=\"text-align: right;\">\n      <th></th>\n      <th>ROW_NUM</th>\n      <th>EMPLOYEE_ID</th>\n      <th>DATAYEAR</th>\n      <th>DATAMONTH</th>\n      <th>DEPARTMENT_ID_LAST</th>\n      <th>LOCATION_CODE</th>\n      <th>JOB_FUNCTION</th>\n      <th>SUPERVISOR</th>\n      <th>JOB_TITLE</th>\n      <th>AGE</th>\n      <th>...</th>\n      <th>JOB_CATEGORY_MTH_OLD</th>\n      <th>JOB_CATEGORY_MTH_NEW</th>\n      <th>JOB_FUNCTION_OLD</th>\n      <th>JOB_FUNCTION_NEW</th>\n      <th>JOB_FUNCTION_CHANGE</th>\n      <th>JOB_FUNCTION_MTH_OLD</th>\n      <th>JOB_FUNCTION_MTH_NEW</th>\n      <th>JOB_DESC_OLD</th>\n      <th>JOB_DESC_NEW</th>\n      <th>JOB_DESC_CHANGE</th>\n    </tr>\n  </thead>\n  <tbody>\n    <tr>\n      <th>0</th>\n      <td>1027986</td>\n      <td>10001111</td>\n      <td>2011</td>\n      <td>3</td>\n      <td>P2P100</td>\n      <td>006</td>\n      <td>M5</td>\n      <td>10001113.0</td>\n      <td>11B</td>\n      <td>39.0</td>\n      <td>...</td>\n      <td>3</td>\n      <td>3</td>\n      <td>M5</td>\n      <td>LO</td>\n      <td>1.0</td>\n      <td>3</td>\n      <td>3</td>\n      <td>???</td>\n      <td>?????????</td>\n      <td>1.0</td>\n    </tr>\n    <tr>\n      <th>1</th>\n      <td>1027989</td>\n      <td>10001111</td>\n      <td>2011</td>\n      <td>4</td>\n      <td>P2P100</td>\n      <td>006</td>\n      <td>M5</td>\n      <td>10001113.0</td>\n      <td>11B</td>\n      <td>39.0</td>\n      <td>...</td>\n      <td>4</td>\n      <td>4</td>\n      <td>M5</td>\n      <td>LO</td>\n      <td>1.0</td>\n      <td>4</td>\n      <td>4</td>\n      <td>???</td>\n      <td>?????????</td>\n      <td>1.0</td>\n    </tr>\n    <tr>\n      <th>2</th>\n      <td>1027985</td>\n      <td>10001111</td>\n      <td>2011</td>\n      <td>5</td>\n      <td>P2A100</td>\n      <td>006</td>\n      <td>M5</td>\n      <td>10001113.0</td>\n      <td>11B</td>\n      <td>39.0</td>\n      <td>...</td>\n      <td>5</td>\n      <td>5</td>\n      <td>M5</td>\n      <td>LO</td>\n      <td>1.0</td>\n      <td>5</td>\n      <td>5</td>\n      <td>???</td>\n      <td>?????????</td>\n      <td>1.0</td>\n    </tr>\n    <tr>\n      <th>3</th>\n      <td>1027979</td>\n      <td>10001112</td>\n      <td>2011</td>\n      <td>1</td>\n      <td>P2S000</td>\n      <td>003</td>\n      <td>M2</td>\n      <td>10001101.0</td>\n      <td>10A</td>\n      <td>40.0</td>\n      <td>...</td>\n      <td>1</td>\n      <td>1</td>\n      <td>M2</td>\n      <td>BS</td>\n      <td>1.0</td>\n      <td>1</td>\n      <td>1</td>\n      <td>Source</td>\n      <td>???</td>\n      <td>1.0</td>\n    </tr>\n    <tr>\n      <th>4</th>\n      <td>1027984</td>\n      <td>10001112</td>\n      <td>2011</td>\n      <td>2</td>\n      <td>P2S000</td>\n      <td>003</td>\n      <td>M2</td>\n      <td>10001101.0</td>\n      <td>10A</td>\n      <td>40.0</td>\n      <td>...</td>\n      <td>2</td>\n      <td>2</td>\n      <td>M2</td>\n      <td>BS</td>\n      <td>1.0</td>\n      <td>2</td>\n      <td>2</td>\n      <td>Source</td>\n      <td>???</td>\n      <td>1.0</td>\n    </tr>\n  </tbody>\n</table>\n<p>5 rows \u00d7 138 columns</p>\n</div>",
                        "text/plain": "   ROW_NUM EMPLOYEE_ID  DATAYEAR  DATAMONTH DEPARTMENT_ID_LAST LOCATION_CODE  \\\n0  1027986    10001111      2011          3             P2P100           006   \n1  1027989    10001111      2011          4             P2P100           006   \n2  1027985    10001111      2011          5             P2A100           006   \n3  1027979    10001112      2011          1             P2S000           003   \n4  1027984    10001112      2011          2             P2S000           003   \n\n  JOB_FUNCTION  SUPERVISOR JOB_TITLE   AGE  ... JOB_CATEGORY_MTH_OLD  \\\n0           M5  10001113.0       11B  39.0  ...                    3   \n1           M5  10001113.0       11B  39.0  ...                    4   \n2           M5  10001113.0       11B  39.0  ...                    5   \n3           M2  10001101.0       10A  40.0  ...                    1   \n4           M2  10001101.0       10A  40.0  ...                    2   \n\n   JOB_CATEGORY_MTH_NEW  JOB_FUNCTION_OLD  JOB_FUNCTION_NEW  \\\n0                     3                M5                LO   \n1                     4                M5                LO   \n2                     5                M5                LO   \n3                     1                M2                BS   \n4                     2                M2                BS   \n\n   JOB_FUNCTION_CHANGE  JOB_FUNCTION_MTH_OLD  JOB_FUNCTION_MTH_NEW  \\\n0                  1.0                     3                     3   \n1                  1.0                     4                     4   \n2                  1.0                     5                     5   \n3                  1.0                     1                     1   \n4                  1.0                     2                     2   \n\n   JOB_DESC_OLD  JOB_DESC_NEW  JOB_DESC_CHANGE  \n0           ???     ?????????              1.0  \n1           ???     ?????????              1.0  \n2           ???     ?????????              1.0  \n3        Source           ???              1.0  \n4        Source           ???              1.0  \n\n[5 rows x 138 columns]"
                    },
                    "execution_count": 170,
                    "metadata": {},
                    "output_type": "execute_result"
                }
            ],
            "source": "df = pd.read_csv('TMP_HCM_VARIABLES_v20210223_add5.csv')\ndf.head()"
        },
        {
            "cell_type": "code",
            "execution_count": 171,
            "metadata": {},
            "outputs": [
                {
                    "data": {
                        "text/plain": "(1031174, 138)"
                    },
                    "execution_count": 171,
                    "metadata": {},
                    "output_type": "execute_result"
                }
            ],
            "source": "df.shape"
        },
        {
            "cell_type": "code",
            "execution_count": 172,
            "metadata": {},
            "outputs": [
                {
                    "data": {
                        "text/plain": "Index(['ROW_NUM', 'EMPLOYEE_ID', 'DATAYEAR', 'DATAMONTH', 'DEPARTMENT_ID_LAST',\n       'LOCATION_CODE', 'JOB_FUNCTION', 'SUPERVISOR', 'JOB_TITLE', 'AGE',\n       ...\n       'JOB_CATEGORY_MTH_OLD', 'JOB_CATEGORY_MTH_NEW', 'JOB_FUNCTION_OLD',\n       'JOB_FUNCTION_NEW', 'JOB_FUNCTION_CHANGE', 'JOB_FUNCTION_MTH_OLD',\n       'JOB_FUNCTION_MTH_NEW', 'JOB_DESC_OLD', 'JOB_DESC_NEW',\n       'JOB_DESC_CHANGE'],\n      dtype='object', length=138)"
                    },
                    "execution_count": 172,
                    "metadata": {},
                    "output_type": "execute_result"
                }
            ],
            "source": "df.columns"
        },
        {
            "cell_type": "code",
            "execution_count": 173,
            "metadata": {},
            "outputs": [],
            "source": "col = ['EMPLOYEE_ID','DATAYEAR','DATAMONTH','DEPARTMENT_ID_LAST','LOCATION_CODE',\n       'AGE','EXPERIENCE_MONTH','MARITAL_STATUS','GRADE_MTH_NEW2',\n       'LIFETIME_MONTH','RATIO_JUNIOR_LESS36','ABSENCE_HOURS',\n       'JOB_TITLE','JOB_FUNCTION','JOB_FUNCTION_MTH_NEW','IS_ALIVE']"
        },
        {
            "cell_type": "code",
            "execution_count": 174,
            "metadata": {},
            "outputs": [],
            "source": "df2 = df[col]"
        },
        {
            "cell_type": "code",
            "execution_count": 197,
            "metadata": {
                "scrolled": true
            },
            "outputs": [
                {
                    "data": {
                        "text/plain": "EMPLOYEE_ID              object\nDATAYEAR                  int64\nDATAMONTH                 int64\nDEPARTMENT_ID_LAST        int64\nLOCATION_CODE             int32\nAGE                     float64\nEXPERIENCE_MONTH          int64\nMARITAL_STATUS            int64\nGRADE_MTH_NEW2            int64\nLIFETIME_MONTH            int64\nRATIO_JUNIOR_LESS36     float64\nABSENCE_HOURS           float64\nJOB_TITLE                 int64\nJOB_FUNCTION              int64\nJOB_FUNCTION_MTH_NEW      int64\nIS_ALIVE                  int64\ndtype: object"
                    },
                    "execution_count": 197,
                    "metadata": {},
                    "output_type": "execute_result"
                }
            ],
            "source": "df2.dtypes"
        },
        {
            "cell_type": "code",
            "execution_count": 176,
            "metadata": {
                "scrolled": true
            },
            "outputs": [
                {
                    "data": {
                        "text/plain": "EMPLOYEE_ID              0\nDATAYEAR                 0\nDATAMONTH                0\nDEPARTMENT_ID_LAST       0\nLOCATION_CODE            0\nAGE                     24\nEXPERIENCE_MONTH         0\nMARITAL_STATUS           0\nGRADE_MTH_NEW2           0\nLIFETIME_MONTH           0\nRATIO_JUNIOR_LESS36      0\nABSENCE_HOURS            0\nJOB_TITLE                0\nJOB_FUNCTION             0\nJOB_FUNCTION_MTH_NEW     0\nIS_ALIVE                 0\ndtype: int64"
                    },
                    "execution_count": 176,
                    "metadata": {},
                    "output_type": "execute_result"
                }
            ],
            "source": "df2.isnull().sum()"
        },
        {
            "cell_type": "code",
            "execution_count": 177,
            "metadata": {},
            "outputs": [
                {
                    "name": "stderr",
                    "output_type": "stream",
                    "text": "C:\\Users\\10711304\\Anaconda3\\lib\\site-packages\\ipykernel_launcher.py:1: SettingWithCopyWarning: \nA value is trying to be set on a copy of a slice from a DataFrame.\nTry using .loc[row_indexer,col_indexer] = value instead\n\nSee the caveats in the documentation: https://pandas.pydata.org/pandas-docs/stable/user_guide/indexing.html#returning-a-view-versus-a-copy\n  \"\"\"Entry point for launching an IPython kernel.\n"
                }
            ],
            "source": "df2['AGE']=df2['AGE'].fillna(df2['AGE'].mean())"
        },
        {
            "cell_type": "code",
            "execution_count": 178,
            "metadata": {},
            "outputs": [
                {
                    "data": {
                        "text/html": "<div>\n<style scoped>\n    .dataframe tbody tr th:only-of-type {\n        vertical-align: middle;\n    }\n\n    .dataframe tbody tr th {\n        vertical-align: top;\n    }\n\n    .dataframe thead th {\n        text-align: right;\n    }\n</style>\n<table border=\"1\" class=\"dataframe\">\n  <thead>\n    <tr style=\"text-align: right;\">\n      <th></th>\n      <th>DATAYEAR</th>\n      <th>DATAMONTH</th>\n      <th>AGE</th>\n      <th>EXPERIENCE_MONTH</th>\n      <th>GRADE_MTH_NEW2</th>\n      <th>LIFETIME_MONTH</th>\n      <th>RATIO_JUNIOR_LESS36</th>\n      <th>ABSENCE_HOURS</th>\n      <th>JOB_FUNCTION_MTH_NEW</th>\n      <th>IS_ALIVE</th>\n    </tr>\n  </thead>\n  <tbody>\n    <tr>\n      <th>count</th>\n      <td>1.031174e+06</td>\n      <td>1.031174e+06</td>\n      <td>1.031174e+06</td>\n      <td>1.031174e+06</td>\n      <td>1.031174e+06</td>\n      <td>1.031174e+06</td>\n      <td>1.031174e+06</td>\n      <td>1.031174e+06</td>\n      <td>1.031174e+06</td>\n      <td>1.031174e+06</td>\n    </tr>\n    <tr>\n      <th>mean</th>\n      <td>2.012726e+03</td>\n      <td>6.551966e+00</td>\n      <td>3.538676e+01</td>\n      <td>4.606561e+01</td>\n      <td>2.985221e+01</td>\n      <td>7.011004e+01</td>\n      <td>4.331378e-01</td>\n      <td>9.015610e+00</td>\n      <td>5.824668e+01</td>\n      <td>9.868955e-01</td>\n    </tr>\n    <tr>\n      <th>std</th>\n      <td>6.261224e+00</td>\n      <td>3.472985e+00</td>\n      <td>7.477950e+00</td>\n      <td>5.799812e+01</td>\n      <td>3.462951e+01</td>\n      <td>7.176940e+01</td>\n      <td>2.944448e-01</td>\n      <td>1.706704e+01</td>\n      <td>5.948039e+01</td>\n      <td>1.137223e-01</td>\n    </tr>\n    <tr>\n      <th>min</th>\n      <td>1.979000e+03</td>\n      <td>1.000000e+00</td>\n      <td>1.500000e+01</td>\n      <td>0.000000e+00</td>\n      <td>1.000000e+00</td>\n      <td>0.000000e+00</td>\n      <td>0.000000e+00</td>\n      <td>-8.400000e+00</td>\n      <td>1.000000e+00</td>\n      <td>0.000000e+00</td>\n    </tr>\n    <tr>\n      <th>25%</th>\n      <td>2.010000e+03</td>\n      <td>4.000000e+00</td>\n      <td>3.000000e+01</td>\n      <td>0.000000e+00</td>\n      <td>8.000000e+00</td>\n      <td>1.700000e+01</td>\n      <td>2.000000e-01</td>\n      <td>0.000000e+00</td>\n      <td>1.500000e+01</td>\n      <td>1.000000e+00</td>\n    </tr>\n    <tr>\n      <th>50%</th>\n      <td>2.014000e+03</td>\n      <td>7.000000e+00</td>\n      <td>3.400000e+01</td>\n      <td>2.400000e+01</td>\n      <td>1.700000e+01</td>\n      <td>4.500000e+01</td>\n      <td>4.285714e-01</td>\n      <td>4.200000e+00</td>\n      <td>3.800000e+01</td>\n      <td>1.000000e+00</td>\n    </tr>\n    <tr>\n      <th>75%</th>\n      <td>2.018000e+03</td>\n      <td>1.000000e+01</td>\n      <td>4.000000e+01</td>\n      <td>7.300000e+01</td>\n      <td>3.800000e+01</td>\n      <td>1.000000e+02</td>\n      <td>6.470588e-01</td>\n      <td>1.260000e+01</td>\n      <td>8.200000e+01</td>\n      <td>1.000000e+00</td>\n    </tr>\n    <tr>\n      <th>max</th>\n      <td>2.021000e+03</td>\n      <td>1.200000e+01</td>\n      <td>6.900000e+01</td>\n      <td>4.400000e+02</td>\n      <td>3.430000e+02</td>\n      <td>5.010000e+02</td>\n      <td>1.000000e+00</td>\n      <td>7.056000e+02</td>\n      <td>4.150000e+02</td>\n      <td>1.000000e+00</td>\n    </tr>\n  </tbody>\n</table>\n</div>",
                        "text/plain": "           DATAYEAR     DATAMONTH           AGE  EXPERIENCE_MONTH  \\\ncount  1.031174e+06  1.031174e+06  1.031174e+06      1.031174e+06   \nmean   2.012726e+03  6.551966e+00  3.538676e+01      4.606561e+01   \nstd    6.261224e+00  3.472985e+00  7.477950e+00      5.799812e+01   \nmin    1.979000e+03  1.000000e+00  1.500000e+01      0.000000e+00   \n25%    2.010000e+03  4.000000e+00  3.000000e+01      0.000000e+00   \n50%    2.014000e+03  7.000000e+00  3.400000e+01      2.400000e+01   \n75%    2.018000e+03  1.000000e+01  4.000000e+01      7.300000e+01   \nmax    2.021000e+03  1.200000e+01  6.900000e+01      4.400000e+02   \n\n       GRADE_MTH_NEW2  LIFETIME_MONTH  RATIO_JUNIOR_LESS36  ABSENCE_HOURS  \\\ncount    1.031174e+06    1.031174e+06         1.031174e+06   1.031174e+06   \nmean     2.985221e+01    7.011004e+01         4.331378e-01   9.015610e+00   \nstd      3.462951e+01    7.176940e+01         2.944448e-01   1.706704e+01   \nmin      1.000000e+00    0.000000e+00         0.000000e+00  -8.400000e+00   \n25%      8.000000e+00    1.700000e+01         2.000000e-01   0.000000e+00   \n50%      1.700000e+01    4.500000e+01         4.285714e-01   4.200000e+00   \n75%      3.800000e+01    1.000000e+02         6.470588e-01   1.260000e+01   \nmax      3.430000e+02    5.010000e+02         1.000000e+00   7.056000e+02   \n\n       JOB_FUNCTION_MTH_NEW      IS_ALIVE  \ncount          1.031174e+06  1.031174e+06  \nmean           5.824668e+01  9.868955e-01  \nstd            5.948039e+01  1.137223e-01  \nmin            1.000000e+00  0.000000e+00  \n25%            1.500000e+01  1.000000e+00  \n50%            3.800000e+01  1.000000e+00  \n75%            8.200000e+01  1.000000e+00  \nmax            4.150000e+02  1.000000e+00  "
                    },
                    "execution_count": 178,
                    "metadata": {},
                    "output_type": "execute_result"
                }
            ],
            "source": "df2.describe()"
        },
        {
            "cell_type": "markdown",
            "metadata": {},
            "source": "# 3. Visualizing data\nWe are now going to visualize the data to find out relationship between each feature and target."
        },
        {
            "cell_type": "code",
            "execution_count": 179,
            "metadata": {},
            "outputs": [
                {
                    "data": {
                        "image/png": "[encoded data removed]",
                        "text/plain": "<Figure size 432x288 with 1 Axes>"
                    },
                    "metadata": {
                        "needs_background": "light"
                    },
                    "output_type": "display_data"
                }
            ],
            "source": "plt.title(\"IS_ALIVE & AGE\") \nsns.boxplot(x=\"IS_ALIVE\",y=\"AGE\",data=df2) \nplt.show() # "
        },
        {
            "cell_type": "code",
            "execution_count": 180,
            "metadata": {},
            "outputs": [
                {
                    "data": {
                        "image/png": "[encoded data removed]",
                        "text/plain": "<Figure size 432x288 with 1 Axes>"
                    },
                    "metadata": {
                        "needs_background": "light"
                    },
                    "output_type": "display_data"
                }
            ],
            "source": "plt.title(\"IS_ALIVE & LIFETIME_MONTH\") \nsns.boxplot(x=\"IS_ALIVE\",y=\"LIFETIME_MONTH\",data=df2) \nplt.show() # "
        },
        {
            "cell_type": "code",
            "execution_count": 181,
            "metadata": {},
            "outputs": [
                {
                    "data": {
                        "image/png": "[encoded data removed]",
                        "text/plain": "<Figure size 432x288 with 1 Axes>"
                    },
                    "metadata": {
                        "needs_background": "light"
                    },
                    "output_type": "display_data"
                }
            ],
            "source": "plt.title(\"IS_ALIVE & GRADE_MTH_NEW2\") \nsns.boxplot(x=\"IS_ALIVE\", y = \"GRADE_MTH_NEW2\", data = df2) \nplt.show() "
        },
        {
            "cell_type": "code",
            "execution_count": 182,
            "metadata": {
                "scrolled": true
            },
            "outputs": [
                {
                    "data": {
                        "image/png": "[encoded data removed]",
                        "text/plain": "<Figure size 432x288 with 1 Axes>"
                    },
                    "metadata": {
                        "needs_background": "light"
                    },
                    "output_type": "display_data"
                }
            ],
            "source": "plt.title(\"IS_ALIVE & ABSENCE_HOURS\") \nsns.boxplot(x=\"IS_ALIVE\", y = \"ABSENCE_HOURS\", data = df2) \nplt.show() "
        },
        {
            "cell_type": "code",
            "execution_count": 229,
            "metadata": {},
            "outputs": [
                {
                    "data": {
                        "image/png": "[encoded data removed]",
                        "text/plain": "<Figure size 432x288 with 1 Axes>"
                    },
                    "metadata": {
                        "needs_background": "light"
                    },
                    "output_type": "display_data"
                }
            ],
            "source": "plt.title(\"MARITAL_STATUS & IS_ALIVE\") \nsns.countplot(x=\"MARITAL_STATUS\", hue = \"IS_ALIVE\", data = df2) \nplt.show() "
        },
        {
            "cell_type": "code",
            "execution_count": 196,
            "metadata": {
                "scrolled": true
            },
            "outputs": [
                {
                    "data": {
                        "text/plain": "DATAYEAR               -0.033869\nDATAMONTH               0.001448\nDEPARTMENT_ID_LAST      0.010823\nLOCATION_CODE           0.013296\nAGE                     0.019206\nEXPERIENCE_MONTH       -0.014555\nMARITAL_STATUS         -0.034358\nGRADE_MTH_NEW2          0.014997\nLIFETIME_MONTH          0.035568\nRATIO_JUNIOR_LESS36    -0.023441\nABSENCE_HOURS           0.015098\nJOB_TITLE              -0.024730\nJOB_FUNCTION           -0.013794\nJOB_FUNCTION_MTH_NEW    0.030374\nIS_ALIVE                1.000000\nName: IS_ALIVE, dtype: float64"
                    },
                    "execution_count": 196,
                    "metadata": {},
                    "output_type": "execute_result"
                }
            ],
            "source": "df2.corr().IS_ALIVE"
        },
        {
            "cell_type": "markdown",
            "metadata": {},
            "source": "# 4.  Encoding categorical features"
        },
        {
            "cell_type": "code",
            "execution_count": 184,
            "metadata": {},
            "outputs": [],
            "source": "df3 = df2.drop(['EMPLOYEE_ID'],axis=1)\nmask = df3.dtypes == np.object\ncategorical_cols = df3.columns[mask]"
        },
        {
            "cell_type": "code",
            "execution_count": 185,
            "metadata": {},
            "outputs": [
                {
                    "data": {
                        "text/plain": "Index(['DEPARTMENT_ID_LAST', 'LOCATION_CODE', 'MARITAL_STATUS', 'JOB_TITLE',\n       'JOB_FUNCTION'],\n      dtype='object')"
                    },
                    "execution_count": 185,
                    "metadata": {},
                    "output_type": "execute_result"
                }
            ],
            "source": "categorical_cols"
        },
        {
            "cell_type": "code",
            "execution_count": 186,
            "metadata": {},
            "outputs": [
                {
                    "data": {
                        "text/plain": "8813"
                    },
                    "execution_count": 186,
                    "metadata": {},
                    "output_type": "execute_result"
                }
            ],
            "source": "# Determine how many extra columns would be created\nnum_ohc_cols = (df2[categorical_cols]\n                .apply(lambda x: x.nunique())\n                .sort_values(ascending=False))\n\n\n# No need to encode if there is only one value\nsmall_num_ohc_cols = num_ohc_cols.loc[num_ohc_cols>1]\n\n# Number of one-hot columns is one less than the number of categories\nsmall_num_ohc_cols -= 1\n\n# This is 215 columns, assuming the original ones are dropped. \n# This is quite a few extra columns!\nsmall_num_ohc_cols.sum()"
        },
        {
            "cell_type": "code",
            "execution_count": 188,
            "metadata": {},
            "outputs": [
                {
                    "data": {
                        "text/plain": "DEPARTMENT_ID_LAST    8453\nJOB_TITLE              228\nLOCATION_CODE           75\nJOB_FUNCTION            55\nMARITAL_STATUS           7\ndtype: int64"
                    },
                    "execution_count": 188,
                    "metadata": {},
                    "output_type": "execute_result"
                }
            ],
            "source": "num_ohc_cols"
        },
        {
            "cell_type": "code",
            "execution_count": 194,
            "metadata": {},
            "outputs": [
                {
                    "name": "stderr",
                    "output_type": "stream",
                    "text": "C:\\Users\\10711304\\Anaconda3\\lib\\site-packages\\ipykernel_launcher.py:2: SettingWithCopyWarning: \nA value is trying to be set on a copy of a slice from a DataFrame.\nTry using .loc[row_indexer,col_indexer] = value instead\n\nSee the caveats in the documentation: https://pandas.pydata.org/pandas-docs/stable/user_guide/indexing.html#returning-a-view-versus-a-copy\n  \nC:\\Users\\10711304\\Anaconda3\\lib\\site-packages\\ipykernel_launcher.py:4: SettingWithCopyWarning: \nA value is trying to be set on a copy of a slice from a DataFrame.\nTry using .loc[row_indexer,col_indexer] = value instead\n\nSee the caveats in the documentation: https://pandas.pydata.org/pandas-docs/stable/user_guide/indexing.html#returning-a-view-versus-a-copy\n  after removing the cwd from sys.path.\nC:\\Users\\10711304\\Anaconda3\\lib\\site-packages\\ipykernel_launcher.py:6: SettingWithCopyWarning: \nA value is trying to be set on a copy of a slice from a DataFrame.\nTry using .loc[row_indexer,col_indexer] = value instead\n\nSee the caveats in the documentation: https://pandas.pydata.org/pandas-docs/stable/user_guide/indexing.html#returning-a-view-versus-a-copy\n  \nC:\\Users\\10711304\\Anaconda3\\lib\\site-packages\\ipykernel_launcher.py:8: SettingWithCopyWarning: \nA value is trying to be set on a copy of a slice from a DataFrame.\nTry using .loc[row_indexer,col_indexer] = value instead\n\nSee the caveats in the documentation: https://pandas.pydata.org/pandas-docs/stable/user_guide/indexing.html#returning-a-view-versus-a-copy\n  \nC:\\Users\\10711304\\Anaconda3\\lib\\site-packages\\ipykernel_launcher.py:10: SettingWithCopyWarning: \nA value is trying to be set on a copy of a slice from a DataFrame.\nTry using .loc[row_indexer,col_indexer] = value instead\n\nSee the caveats in the documentation: https://pandas.pydata.org/pandas-docs/stable/user_guide/indexing.html#returning-a-view-versus-a-copy\n  # Remove the CWD from sys.path while we load stuff.\n"
                }
            ],
            "source": "le1 = LabelEncoder()\ndf2['DEPARTMENT_ID_LAST'] = le.fit_transform(df2.DEPARTMENT_ID_LAST)\nle2 = LabelEncoder()\ndf2['JOB_TITLE'] = le.fit_transform(df2.JOB_TITLE)\nle3 = LabelEncoder()\ndf2['LOCATION_CODE'] = le.fit_transform(df2.LOCATION_CODE.astype(str))\nle4 = LabelEncoder()\ndf2['JOB_FUNCTION'] = le.fit_transform(df2.JOB_FUNCTION)\nle5 = LabelEncoder()\ndf2['MARITAL_STATUS'] = le.fit_transform(df2.MARITAL_STATUS)"
        },
        {
            "cell_type": "markdown",
            "metadata": {},
            "source": "#  5. Defind target and features"
        },
        {
            "cell_type": "code",
            "execution_count": 339,
            "metadata": {},
            "outputs": [],
            "source": "train = df2[df2['DATAYEAR']<2020]\ntest = df2[df2['DATAYEAR']>=2020]"
        },
        {
            "cell_type": "code",
            "execution_count": 340,
            "metadata": {},
            "outputs": [],
            "source": "X_train = train.drop(['EMPLOYEE_ID','IS_ALIVE'],axis=1)\nX_test  = test.drop(['EMPLOYEE_ID','IS_ALIVE'],axis=1)\ny_train = train['IS_ALIVE']\ny_test = test['IS_ALIVE']"
        },
        {
            "cell_type": "markdown",
            "metadata": {},
            "source": "# 6. UnderSampling"
        },
        {
            "cell_type": "code",
            "execution_count": 341,
            "metadata": {},
            "outputs": [
                {
                    "name": "stdout",
                    "output_type": "stream",
                    "text": "Before UpSampling, counts of label '1': 920735\nBefore UpSampling, counts of label '0': 12202 \n\nAfter UpSampling, counts of label '1': 12202\nAfter UpSampling, counts of label '0': 12202 \n\n"
                }
            ],
            "source": "from imblearn.over_sampling import SMOTE\nprint(\"Before UpSampling, counts of label '1': {}\".format(sum(y_train==1)))\nprint(\"Before UpSampling, counts of label '0': {} \\n\".format(sum(y_train==0)))\n\n## Oversampling\n#sm = SMOTE(sampling_strategy = 1 ,k_neighbors = 5, random_state=1)   #Synthetic Minority Over Sampling Technique\n#X_train_res, y_train_res = sm.fit_sample(X_train, y_train.ravel())\n\n## UnderSampling\nundersample = RandomUnderSampler(sampling_strategy='majority')\nX_train_res, y_train_res = undersample.fit_resample(X_train, y_train)\n\nprint(\"After UpSampling, counts of label '1': {}\".format(sum(y_train_res==1)))\nprint(\"After UpSampling, counts of label '0': {} \\n\".format(sum(y_train_res==0)))"
        },
        {
            "cell_type": "markdown",
            "metadata": {},
            "source": "# 7. LogisticRegressionCV "
        },
        {
            "cell_type": "code",
            "execution_count": 342,
            "metadata": {},
            "outputs": [
                {
                    "name": "stderr",
                    "output_type": "stream",
                    "text": "C:\\Users\\10711304\\Anaconda3\\lib\\site-packages\\sklearn\\svm\\_base.py:977: ConvergenceWarning: Liblinear failed to converge, increase the number of iterations.\n  \"the number of iterations.\", ConvergenceWarning)\nC:\\Users\\10711304\\Anaconda3\\lib\\site-packages\\sklearn\\svm\\_base.py:977: ConvergenceWarning: Liblinear failed to converge, increase the number of iterations.\n  \"the number of iterations.\", ConvergenceWarning)\nC:\\Users\\10711304\\Anaconda3\\lib\\site-packages\\sklearn\\svm\\_base.py:977: ConvergenceWarning: Liblinear failed to converge, increase the number of iterations.\n  \"the number of iterations.\", ConvergenceWarning)\nC:\\Users\\10711304\\Anaconda3\\lib\\site-packages\\sklearn\\svm\\_base.py:977: ConvergenceWarning: Liblinear failed to converge, increase the number of iterations.\n  \"the number of iterations.\", ConvergenceWarning)\nC:\\Users\\10711304\\Anaconda3\\lib\\site-packages\\sklearn\\svm\\_base.py:977: ConvergenceWarning: Liblinear failed to converge, increase the number of iterations.\n  \"the number of iterations.\", ConvergenceWarning)\nC:\\Users\\10711304\\Anaconda3\\lib\\site-packages\\sklearn\\svm\\_base.py:977: ConvergenceWarning: Liblinear failed to converge, increase the number of iterations.\n  \"the number of iterations.\", ConvergenceWarning)\nC:\\Users\\10711304\\Anaconda3\\lib\\site-packages\\sklearn\\svm\\_base.py:977: ConvergenceWarning: Liblinear failed to converge, increase the number of iterations.\n  \"the number of iterations.\", ConvergenceWarning)\nC:\\Users\\10711304\\Anaconda3\\lib\\site-packages\\sklearn\\svm\\_base.py:977: ConvergenceWarning: Liblinear failed to converge, increase the number of iterations.\n  \"the number of iterations.\", ConvergenceWarning)\nC:\\Users\\10711304\\Anaconda3\\lib\\site-packages\\sklearn\\svm\\_base.py:977: ConvergenceWarning: Liblinear failed to converge, increase the number of iterations.\n  \"the number of iterations.\", ConvergenceWarning)\nC:\\Users\\10711304\\Anaconda3\\lib\\site-packages\\sklearn\\svm\\_base.py:977: ConvergenceWarning: Liblinear failed to converge, increase the number of iterations.\n  \"the number of iterations.\", ConvergenceWarning)\nC:\\Users\\10711304\\Anaconda3\\lib\\site-packages\\sklearn\\svm\\_base.py:977: ConvergenceWarning: Liblinear failed to converge, increase the number of iterations.\n  \"the number of iterations.\", ConvergenceWarning)\nC:\\Users\\10711304\\Anaconda3\\lib\\site-packages\\sklearn\\svm\\_base.py:977: ConvergenceWarning: Liblinear failed to converge, increase the number of iterations.\n  \"the number of iterations.\", ConvergenceWarning)\nC:\\Users\\10711304\\Anaconda3\\lib\\site-packages\\sklearn\\svm\\_base.py:977: ConvergenceWarning: Liblinear failed to converge, increase the number of iterations.\n  \"the number of iterations.\", ConvergenceWarning)\nC:\\Users\\10711304\\Anaconda3\\lib\\site-packages\\sklearn\\svm\\_base.py:977: ConvergenceWarning: Liblinear failed to converge, increase the number of iterations.\n  \"the number of iterations.\", ConvergenceWarning)\nC:\\Users\\10711304\\Anaconda3\\lib\\site-packages\\sklearn\\svm\\_base.py:977: ConvergenceWarning: Liblinear failed to converge, increase the number of iterations.\n  \"the number of iterations.\", ConvergenceWarning)\nC:\\Users\\10711304\\Anaconda3\\lib\\site-packages\\sklearn\\svm\\_base.py:977: ConvergenceWarning: Liblinear failed to converge, increase the number of iterations.\n  \"the number of iterations.\", ConvergenceWarning)\nC:\\Users\\10711304\\Anaconda3\\lib\\site-packages\\sklearn\\svm\\_base.py:977: ConvergenceWarning: Liblinear failed to converge, increase the number of iterations.\n  \"the number of iterations.\", ConvergenceWarning)\nC:\\Users\\10711304\\Anaconda3\\lib\\site-packages\\sklearn\\svm\\_base.py:977: ConvergenceWarning: Liblinear failed to converge, increase the number of iterations.\n  \"the number of iterations.\", ConvergenceWarning)\nC:\\Users\\10711304\\Anaconda3\\lib\\site-packages\\sklearn\\svm\\_base.py:977: ConvergenceWarning: Liblinear failed to converge, increase the number of iterations.\n  \"the number of iterations.\", ConvergenceWarning)\nC:\\Users\\10711304\\Anaconda3\\lib\\site-packages\\sklearn\\svm\\_base.py:977: ConvergenceWarning: Liblinear failed to converge, increase the number of iterations.\n  \"the number of iterations.\", ConvergenceWarning)\nC:\\Users\\10711304\\Anaconda3\\lib\\site-packages\\sklearn\\svm\\_base.py:977: ConvergenceWarning: Liblinear failed to converge, increase the number of iterations.\n  \"the number of iterations.\", ConvergenceWarning)\nC:\\Users\\10711304\\Anaconda3\\lib\\site-packages\\sklearn\\svm\\_base.py:977: ConvergenceWarning: Liblinear failed to converge, increase the number of iterations.\n  \"the number of iterations.\", ConvergenceWarning)\nC:\\Users\\10711304\\Anaconda3\\lib\\site-packages\\sklearn\\svm\\_base.py:977: ConvergenceWarning: Liblinear failed to converge, increase the number of iterations.\n  \"the number of iterations.\", ConvergenceWarning)\nC:\\Users\\10711304\\Anaconda3\\lib\\site-packages\\sklearn\\svm\\_base.py:977: ConvergenceWarning: Liblinear failed to converge, increase the number of iterations.\n  \"the number of iterations.\", ConvergenceWarning)\n"
                }
            ],
            "source": "lr = LogisticRegression(solver='liblinear').fit(X_train, y_train)\nlr_l1 = LogisticRegressionCV(Cs=10, cv=4, penalty='l1', solver='liblinear').fit(X_train_res, y_train_res)\nlr_l2 = LogisticRegressionCV(Cs=10, cv=4, penalty='l2', solver='liblinear').fit(X_train_res, y_train_res)"
        },
        {
            "cell_type": "code",
            "execution_count": 362,
            "metadata": {},
            "outputs": [
                {
                    "data": {
                        "text/html": "<div>\n<style scoped>\n    .dataframe tbody tr th:only-of-type {\n        vertical-align: middle;\n    }\n\n    .dataframe tbody tr th {\n        vertical-align: top;\n    }\n\n    .dataframe thead th {\n        text-align: right;\n    }\n</style>\n<table border=\"1\" class=\"dataframe\">\n  <thead>\n    <tr style=\"text-align: right;\">\n      <th></th>\n      <th>lr</th>\n      <th>l1</th>\n      <th>l2</th>\n    </tr>\n  </thead>\n  <tbody>\n    <tr>\n      <th>0</th>\n      <td>1</td>\n      <td>0</td>\n      <td>0</td>\n    </tr>\n    <tr>\n      <th>1</th>\n      <td>1</td>\n      <td>0</td>\n      <td>0</td>\n    </tr>\n    <tr>\n      <th>2</th>\n      <td>1</td>\n      <td>0</td>\n      <td>0</td>\n    </tr>\n    <tr>\n      <th>3</th>\n      <td>1</td>\n      <td>0</td>\n      <td>0</td>\n    </tr>\n    <tr>\n      <th>4</th>\n      <td>1</td>\n      <td>0</td>\n      <td>0</td>\n    </tr>\n  </tbody>\n</table>\n</div>",
                        "text/plain": "   lr  l1  l2\n0   1   0   0\n1   1   0   0\n2   1   0   0\n3   1   0   0\n4   1   0   0"
                    },
                    "execution_count": 362,
                    "metadata": {},
                    "output_type": "execute_result"
                }
            ],
            "source": "y_pred = list()\ny_prob = list()\n\ncoeff_labels = ['lr', 'l1', 'l2']\ncoeff_models = [lr, lr_l1, lr_l2]\n\nfor lab,mod in zip(coeff_labels, coeff_models):\n    y_pred.append(pd.Series(mod.predict(X_test), name=lab))\n    y_prob.append(pd.Series(mod.predict_proba(X_test).max(axis=1), name=lab))\n    \ny_pred = pd.concat(y_pred, axis=1)\ny_prob = pd.concat(y_prob, axis=1)\n\ny_pred.head()"
        },
        {
            "cell_type": "code",
            "execution_count": 363,
            "metadata": {},
            "outputs": [
                {
                    "name": "stderr",
                    "output_type": "stream",
                    "text": "C:\\Users\\10711304\\Anaconda3\\lib\\site-packages\\sklearn\\metrics\\_classification.py:1221: UndefinedMetricWarning: Precision and F-score are ill-defined and being set to 0.0 in labels with no predicted samples. Use `zero_division` parameter to control this behavior.\n  _warn_prf(average, modifier, msg_start, len(result))\n"
                },
                {
                    "data": {
                        "text/html": "<div>\n<style scoped>\n    .dataframe tbody tr th:only-of-type {\n        vertical-align: middle;\n    }\n\n    .dataframe tbody tr th {\n        vertical-align: top;\n    }\n\n    .dataframe thead th {\n        text-align: right;\n    }\n</style>\n<table border=\"1\" class=\"dataframe\">\n  <thead>\n    <tr style=\"text-align: right;\">\n      <th></th>\n      <th>lr</th>\n      <th>l1</th>\n      <th>l2</th>\n    </tr>\n  </thead>\n  <tbody>\n    <tr>\n      <th>precision</th>\n      <td>0.973488</td>\n      <td>0.978868</td>\n      <td>0.978554</td>\n    </tr>\n    <tr>\n      <th>recall</th>\n      <td>0.986655</td>\n      <td>0.414121</td>\n      <td>0.430713</td>\n    </tr>\n    <tr>\n      <th>fscore</th>\n      <td>0.980027</td>\n      <td>0.572433</td>\n      <td>0.589072</td>\n    </tr>\n    <tr>\n      <th>accuracy</th>\n      <td>0.986655</td>\n      <td>0.414121</td>\n      <td>0.430713</td>\n    </tr>\n    <tr>\n      <th>auc</th>\n      <td>0.500000</td>\n      <td>0.580824</td>\n      <td>0.579074</td>\n    </tr>\n  </tbody>\n</table>\n</div>",
                        "text/plain": "                 lr        l1        l2\nprecision  0.973488  0.978868  0.978554\nrecall     0.986655  0.414121  0.430713\nfscore     0.980027  0.572433  0.589072\naccuracy   0.986655  0.414121  0.430713\nauc        0.500000  0.580824  0.579074"
                    },
                    "execution_count": 363,
                    "metadata": {},
                    "output_type": "execute_result"
                }
            ],
            "source": "from sklearn.metrics import precision_recall_fscore_support as score\nfrom sklearn.metrics import confusion_matrix, accuracy_score, roc_auc_score\nfrom sklearn.preprocessing import label_binarize\n\nmetrics = list()\ncm = dict()\n\nfor lab in coeff_labels:\n\n    # Preciision, recall, f-score from the multi-class support function\n    precision, recall, fscore, _ = score(y_test, y_pred[lab], average='weighted')\n    \n    # The usual way to calculate accuracy\n    accuracy = accuracy_score(y_test, y_pred[lab])\n    \n    # ROC-AUC scores can be calculated by binarizing the data\n    auc = roc_auc_score(label_binarize(y_test, classes=[0,1]),\n              label_binarize(y_pred[lab], classes=[0,1]), \n              average='weighted')\n    \n    # Last, the confusion matrix\n    cm[lab] = confusion_matrix(y_test, y_pred[lab])\n    \n    metrics.append(pd.Series({'precision':precision, 'recall':recall, \n                              'fscore':fscore, 'accuracy':accuracy,\n                              'auc':auc}, \n                             name=lab))\n\nmetrics = pd.concat(metrics, axis=1)\nmetrics"
        },
        {
            "cell_type": "code",
            "execution_count": 351,
            "metadata": {},
            "outputs": [
                {
                    "name": "stdout",
                    "output_type": "stream",
                    "text": "lr:\n[[    0  1311]\n [    0 96926]]\nl1:\n[[  986   325]\n [57230 39696]]\nl2:\n[[  959   352]\n [55573 41353]]\n"
                }
            ],
            "source": "cm_lr = confusion_matrix(y_test, y_pred.lr)\ncm_l1 = confusion_matrix(y_test, y_pred.l1)\ncm_l2 = confusion_matrix(y_test, y_pred.l2)\nprint('lr:\\n{}'.format(cm_lr))\nprint('l1:\\n{}'.format(cm_l1))\nprint('l2:\\n{}'.format(cm_l2))"
        },
        {
            "cell_type": "markdown",
            "metadata": {},
            "source": "#  8. DecisionTree"
        },
        {
            "cell_type": "code",
            "execution_count": 352,
            "metadata": {},
            "outputs": [],
            "source": "dt = DecisionTreeClassifier(random_state=42)\ndt = dt.fit(X_train_res, y_train_res)"
        },
        {
            "cell_type": "code",
            "execution_count": 353,
            "metadata": {},
            "outputs": [],
            "source": "from sklearn.metrics import accuracy_score, precision_score, recall_score, f1_score\n\ndef measure_error(y_true, y_pred, label):\n    return pd.Series({'accuracy':accuracy_score(y_true, y_pred),\n                      'precision': precision_score(y_true, y_pred),\n                      'recall': recall_score(y_true, y_pred),\n                      'f1': f1_score(y_true, y_pred)},\n                      name=label)"
        },
        {
            "cell_type": "code",
            "execution_count": 354,
            "metadata": {
                "scrolled": true
            },
            "outputs": [
                {
                    "data": {
                        "text/html": "<div>\n<style scoped>\n    .dataframe tbody tr th:only-of-type {\n        vertical-align: middle;\n    }\n\n    .dataframe tbody tr th {\n        vertical-align: top;\n    }\n\n    .dataframe thead th {\n        text-align: right;\n    }\n</style>\n<table border=\"1\" class=\"dataframe\">\n  <thead>\n    <tr style=\"text-align: right;\">\n      <th></th>\n      <th>train</th>\n      <th>test</th>\n    </tr>\n  </thead>\n  <tbody>\n    <tr>\n      <th>accuracy</th>\n      <td>1.0</td>\n      <td>0.570589</td>\n    </tr>\n    <tr>\n      <th>precision</th>\n      <td>1.0</td>\n      <td>0.990291</td>\n    </tr>\n    <tr>\n      <th>recall</th>\n      <td>1.0</td>\n      <td>0.570373</td>\n    </tr>\n    <tr>\n      <th>f1</th>\n      <td>1.0</td>\n      <td>0.723840</td>\n    </tr>\n  </tbody>\n</table>\n</div>",
                        "text/plain": "           train      test\naccuracy     1.0  0.570589\nprecision    1.0  0.990291\nrecall       1.0  0.570373\nf1           1.0  0.723840"
                    },
                    "execution_count": 354,
                    "metadata": {},
                    "output_type": "execute_result"
                }
            ],
            "source": "y_train_pred = dt.predict(X_train_res)\ny_test_pred = dt.predict(X_test)\n\ntrain_test_full_error = pd.concat([measure_error(y_train_res, y_train_pred, 'train'),\n                              measure_error(y_test, y_test_pred, 'test')],\n                              axis=1)\n\ntrain_test_full_error"
        },
        {
            "cell_type": "code",
            "execution_count": 355,
            "metadata": {},
            "outputs": [
                {
                    "name": "stdout",
                    "output_type": "stream",
                    "text": "dt:\n[[  769   542]\n [41642 55284]]\n"
                }
            ],
            "source": "cm_dt = confusion_matrix(y_test, y_test_pred)\nprint('dt:\\n{}'.format(cm_dt))"
        },
        {
            "cell_type": "markdown",
            "metadata": {},
            "source": "# 9. GradientBoosting"
        },
        {
            "cell_type": "code",
            "execution_count": 358,
            "metadata": {},
            "outputs": [],
            "source": "param_grid = {'n_estimators': [15, 25, 50, 100, 200, 400],\n              'learning_rate': [0.1, 0.01, 0.001, 0.0001],\n              'subsample': [1.0, 0.5],\n              'max_features': [1, 2, 3, 4]}\n\n# The grid search object\nGV_GBC = GridSearchCV(GradientBoostingClassifier(random_state=42), \n                      param_grid=param_grid, \n                      scoring='accuracy',\n                      n_jobs=-1)\n\n# Do the grid search\nGV_GBC = GV_GBC.fit(X_train_res, y_train_res)"
        },
        {
            "cell_type": "code",
            "execution_count": 359,
            "metadata": {},
            "outputs": [
                {
                    "data": {
                        "text/plain": "GradientBoostingClassifier(learning_rate=0.001, max_features=1,\n                           n_estimators=400, random_state=42)"
                    },
                    "execution_count": 359,
                    "metadata": {},
                    "output_type": "execute_result"
                }
            ],
            "source": "# The best model\nGV_GBC.best_estimator_"
        },
        {
            "cell_type": "code",
            "execution_count": 360,
            "metadata": {},
            "outputs": [
                {
                    "name": "stdout",
                    "output_type": "stream",
                    "text": "              precision    recall  f1-score   support\n\n           0       0.80      0.02      0.04     51194\n           1       0.48      0.99      0.65     47043\n\n    accuracy                           0.49     98237\n   macro avg       0.64      0.51      0.35     98237\nweighted avg       0.65      0.49      0.33     98237\n\n"
                }
            ],
            "source": "from sklearn.metrics import classification_report\n\ny_pred = GV_GBC.predict(X_test)\nprint(classification_report(y_pred, y_test))"
        },
        {
            "cell_type": "code",
            "execution_count": 361,
            "metadata": {},
            "outputs": [
                {
                    "name": "stdout",
                    "output_type": "stream",
                    "text": "gb:\n[[ 1053   258]\n [50141 46785]]\n"
                }
            ],
            "source": "cm_gb = confusion_matrix(y_test, y_pred)\nprint('gb:\\n{}'.format(cm_gb))"
        },
        {
            "cell_type": "markdown",
            "metadata": {},
            "source": "# 10. Discussion & Conclusion\n    - Fitting the decisiontree model is more suitable than the others because F1 score which is the weighted average of Precision and Recall is 0.72 .\n    - I chose undersampling to change the composition of training dataset.\n    - The future work will add more information by personnel work hour detail or economic indicator. "
        },
        {
            "cell_type": "code",
            "execution_count": null,
            "metadata": {},
            "outputs": [],
            "source": ""
        }
    ],
    "metadata": {
        "kernelspec": {
            "display_name": "Python 3.8",
            "language": "python",
            "name": "python3"
        },
        "language_info": {
            "codemirror_mode": {
                "name": "ipython",
                "version": 3
            },
            "file_extension": ".py",
            "mimetype": "text/x-python",
            "name": "python",
            "nbconvert_exporter": "python",
            "pygments_lexer": "ipython3",
            "version": "3.8.10"
        }
    },
    "nbformat": 4,
    "nbformat_minor": 4
}